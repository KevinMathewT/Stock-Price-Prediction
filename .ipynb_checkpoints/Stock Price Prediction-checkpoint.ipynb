{
 "cells": [
  {
   "cell_type": "code",
   "execution_count": 92,
   "metadata": {},
   "outputs": [],
   "source": [
    "import pandas as pd\n",
    "import numpy as np\n",
    "from sklearn.preprocessing import MinMaxScaler"
   ]
  },
  {
   "cell_type": "code",
   "execution_count": 93,
   "metadata": {},
   "outputs": [],
   "source": [
    "dataset = pd.read_csv(\"AppleData.csv\")"
   ]
  },
  {
   "cell_type": "code",
   "execution_count": 94,
   "metadata": {},
   "outputs": [
    {
     "data": {
      "text/html": [
       "<div>\n",
       "<style scoped>\n",
       "    .dataframe tbody tr th:only-of-type {\n",
       "        vertical-align: middle;\n",
       "    }\n",
       "\n",
       "    .dataframe tbody tr th {\n",
       "        vertical-align: top;\n",
       "    }\n",
       "\n",
       "    .dataframe thead th {\n",
       "        text-align: right;\n",
       "    }\n",
       "</style>\n",
       "<table border=\"1\" class=\"dataframe\">\n",
       "  <thead>\n",
       "    <tr style=\"text-align: right;\">\n",
       "      <th></th>\n",
       "      <th>Date</th>\n",
       "      <th>WIKI/AAPL - Open</th>\n",
       "      <th>WIKI/AAPL - High</th>\n",
       "      <th>WIKI/AAPL - Low</th>\n",
       "      <th>WIKI/AAPL - Close</th>\n",
       "      <th>WIKI/AAPL - Volume</th>\n",
       "      <th>WIKI/AAPL - Ex-Dividend</th>\n",
       "      <th>WIKI/AAPL - Split Ratio</th>\n",
       "      <th>WIKI/AAPL - Adj. Open</th>\n",
       "      <th>WIKI/AAPL - Adj. High</th>\n",
       "      <th>WIKI/AAPL - Adj. Low</th>\n",
       "      <th>WIKI/AAPL - Adj. Close</th>\n",
       "      <th>WIKI/AAPL - Adj. Volume</th>\n",
       "    </tr>\n",
       "  </thead>\n",
       "  <tbody>\n",
       "    <tr>\n",
       "      <th>0</th>\n",
       "      <td>2000-01-03</td>\n",
       "      <td>104.87</td>\n",
       "      <td>112.50</td>\n",
       "      <td>101.69</td>\n",
       "      <td>111.94</td>\n",
       "      <td>4783900.0</td>\n",
       "      <td>0.0</td>\n",
       "      <td>1.0</td>\n",
       "      <td>3.369314</td>\n",
       "      <td>3.614454</td>\n",
       "      <td>3.267146</td>\n",
       "      <td>3.596463</td>\n",
       "      <td>133949200.0</td>\n",
       "    </tr>\n",
       "    <tr>\n",
       "      <th>1</th>\n",
       "      <td>2000-01-04</td>\n",
       "      <td>108.25</td>\n",
       "      <td>110.62</td>\n",
       "      <td>101.19</td>\n",
       "      <td>102.50</td>\n",
       "      <td>4574800.0</td>\n",
       "      <td>0.0</td>\n",
       "      <td>1.0</td>\n",
       "      <td>3.477908</td>\n",
       "      <td>3.554053</td>\n",
       "      <td>3.251081</td>\n",
       "      <td>3.293170</td>\n",
       "      <td>128094400.0</td>\n",
       "    </tr>\n",
       "    <tr>\n",
       "      <th>2</th>\n",
       "      <td>2000-01-05</td>\n",
       "      <td>103.75</td>\n",
       "      <td>110.56</td>\n",
       "      <td>103.00</td>\n",
       "      <td>104.00</td>\n",
       "      <td>6949300.0</td>\n",
       "      <td>0.0</td>\n",
       "      <td>1.0</td>\n",
       "      <td>3.333330</td>\n",
       "      <td>3.552125</td>\n",
       "      <td>3.309234</td>\n",
       "      <td>3.341362</td>\n",
       "      <td>194580400.0</td>\n",
       "    </tr>\n",
       "    <tr>\n",
       "      <th>3</th>\n",
       "      <td>2000-01-06</td>\n",
       "      <td>106.12</td>\n",
       "      <td>107.00</td>\n",
       "      <td>95.00</td>\n",
       "      <td>95.00</td>\n",
       "      <td>6856900.0</td>\n",
       "      <td>0.0</td>\n",
       "      <td>1.0</td>\n",
       "      <td>3.409475</td>\n",
       "      <td>3.437748</td>\n",
       "      <td>3.052206</td>\n",
       "      <td>3.052206</td>\n",
       "      <td>191993200.0</td>\n",
       "    </tr>\n",
       "    <tr>\n",
       "      <th>4</th>\n",
       "      <td>2000-01-07</td>\n",
       "      <td>96.50</td>\n",
       "      <td>101.00</td>\n",
       "      <td>95.50</td>\n",
       "      <td>99.50</td>\n",
       "      <td>4113700.0</td>\n",
       "      <td>0.0</td>\n",
       "      <td>1.0</td>\n",
       "      <td>3.100399</td>\n",
       "      <td>3.244977</td>\n",
       "      <td>3.068270</td>\n",
       "      <td>3.196784</td>\n",
       "      <td>115183600.0</td>\n",
       "    </tr>\n",
       "  </tbody>\n",
       "</table>\n",
       "</div>"
      ],
      "text/plain": [
       "         Date  WIKI/AAPL - Open  WIKI/AAPL - High  WIKI/AAPL - Low  \\\n",
       "0  2000-01-03            104.87            112.50           101.69   \n",
       "1  2000-01-04            108.25            110.62           101.19   \n",
       "2  2000-01-05            103.75            110.56           103.00   \n",
       "3  2000-01-06            106.12            107.00            95.00   \n",
       "4  2000-01-07             96.50            101.00            95.50   \n",
       "\n",
       "   WIKI/AAPL - Close  WIKI/AAPL - Volume  WIKI/AAPL - Ex-Dividend  \\\n",
       "0             111.94           4783900.0                      0.0   \n",
       "1             102.50           4574800.0                      0.0   \n",
       "2             104.00           6949300.0                      0.0   \n",
       "3              95.00           6856900.0                      0.0   \n",
       "4              99.50           4113700.0                      0.0   \n",
       "\n",
       "   WIKI/AAPL - Split Ratio  WIKI/AAPL - Adj. Open  WIKI/AAPL - Adj. High  \\\n",
       "0                      1.0               3.369314               3.614454   \n",
       "1                      1.0               3.477908               3.554053   \n",
       "2                      1.0               3.333330               3.552125   \n",
       "3                      1.0               3.409475               3.437748   \n",
       "4                      1.0               3.100399               3.244977   \n",
       "\n",
       "   WIKI/AAPL - Adj. Low  WIKI/AAPL - Adj. Close  WIKI/AAPL - Adj. Volume  \n",
       "0              3.267146                3.596463              133949200.0  \n",
       "1              3.251081                3.293170              128094400.0  \n",
       "2              3.309234                3.341362              194580400.0  \n",
       "3              3.052206                3.052206              191993200.0  \n",
       "4              3.068270                3.196784              115183600.0  "
      ]
     },
     "execution_count": 94,
     "metadata": {},
     "output_type": "execute_result"
    }
   ],
   "source": [
    "dataset.head(5)"
   ]
  },
  {
   "cell_type": "code",
   "execution_count": 95,
   "metadata": {},
   "outputs": [],
   "source": [
    "dataset = np.array(dataset)"
   ]
  },
  {
   "cell_type": "code",
   "execution_count": 96,
   "metadata": {},
   "outputs": [
    {
     "data": {
      "text/plain": [
       "array([[0.13748043],\n",
       "       [0.13441651],\n",
       "       [0.13396273],\n",
       "       ...,\n",
       "       [0.22358584],\n",
       "       [0.22801109],\n",
       "       [0.22935791]])"
      ]
     },
     "execution_count": 96,
     "metadata": {},
     "output_type": "execute_result"
    }
   ],
   "source": [
    "#OHLC\n",
    "OHLC = dataset[:, 1:5].astype(float)\n",
    "OHLC = OHLC.mean(axis = 1)\n",
    "OHLC = OHLC.reshape(-1, 1)\n",
    "scalerOHLC = MinMaxScaler()\n",
    "OHLC = scalerOHLC.fit_transform(OHLC)\n",
    "OHLC"
   ]
  },
  {
   "cell_type": "code",
   "execution_count": 97,
   "metadata": {},
   "outputs": [
    {
     "data": {
      "text/plain": [
       "array([[0.01452666],\n",
       "       [0.01415106],\n",
       "       [0.01409543],\n",
       "       ...,\n",
       "       [0.9208937 ],\n",
       "       [0.93777876],\n",
       "       [0.94291769]])"
      ]
     },
     "execution_count": 97,
     "metadata": {},
     "output_type": "execute_result"
    }
   ],
   "source": [
    "#AdjustedOHLC\n",
    "AdjustedOHLC = dataset[:, 8:12].astype(float)\n",
    "AdjustedOHLC = AdjustedOHLC.mean(axis = 1)\n",
    "AdjustedOHLC = AdjustedOHLC.reshape(-1, 1)\n",
    "scalerAdjustedOHLC = MinMaxScaler()\n",
    "AdjustedOHLC = scalerAdjustedOHLC.fit_transform(AdjustedOHLC)\n",
    "AdjustedOHLC"
   ]
  },
  {
   "cell_type": "code",
   "execution_count": 98,
   "metadata": {},
   "outputs": [
    {
     "data": {
      "text/plain": [
       "array([[0.13889682],\n",
       "       [0.1331772 ],\n",
       "       [0.13474985],\n",
       "       ...,\n",
       "       [0.22293462],\n",
       "       [0.22898813],\n",
       "       [0.22806873]])"
      ]
     },
     "execution_count": 98,
     "metadata": {},
     "output_type": "execute_result"
    }
   ],
   "source": [
    "#HLC\n",
    "HLC = dataset[:, 2:5].astype(float)\n",
    "HLC = HLC.mean(axis = 1)\n",
    "HLC = HLC.reshape(-1, 1)\n",
    "scalerHLC = MinMaxScaler()\n",
    "HLC = scalerHLC.fit_transform(HLC)\n",
    "HLC"
   ]
  },
  {
   "cell_type": "code",
   "execution_count": 99,
   "metadata": {},
   "outputs": [
    {
     "data": {
      "text/plain": [
       "array([[0.0147031 ],\n",
       "       [0.01400219],\n",
       "       [0.01419491],\n",
       "       ...,\n",
       "       [0.9178307 ],\n",
       "       [0.94092005],\n",
       "       [0.93741328]])"
      ]
     },
     "execution_count": 99,
     "metadata": {},
     "output_type": "execute_result"
    }
   ],
   "source": [
    "#AdjustedHLC\n",
    "AdjustedHLC = dataset[:, 9:12].astype(float)\n",
    "AdjustedHLC = AdjustedHLC.mean(axis = 1)\n",
    "AdjustedHLC = AdjustedHLC.reshape(-1, 1)\n",
    "scalerAdjustedHLC = MinMaxScaler()\n",
    "AdjustedHLC = scalerAdjustedHLC.fit_transform(AdjustedHLC)\n",
    "AdjustedHLC"
   ]
  },
  {
   "cell_type": "code",
   "execution_count": 100,
   "metadata": {},
   "outputs": [
    {
     "data": {
      "text/html": [
       "<div>\n",
       "<style scoped>\n",
       "    .dataframe tbody tr th:only-of-type {\n",
       "        vertical-align: middle;\n",
       "    }\n",
       "\n",
       "    .dataframe tbody tr th {\n",
       "        vertical-align: top;\n",
       "    }\n",
       "\n",
       "    .dataframe thead th {\n",
       "        text-align: right;\n",
       "    }\n",
       "</style>\n",
       "<table border=\"1\" class=\"dataframe\">\n",
       "  <thead>\n",
       "    <tr style=\"text-align: right;\">\n",
       "      <th></th>\n",
       "      <th>0</th>\n",
       "    </tr>\n",
       "  </thead>\n",
       "  <tbody>\n",
       "    <tr>\n",
       "      <th>0</th>\n",
       "      <td>0.137480</td>\n",
       "    </tr>\n",
       "    <tr>\n",
       "      <th>1</th>\n",
       "      <td>0.134417</td>\n",
       "    </tr>\n",
       "    <tr>\n",
       "      <th>2</th>\n",
       "      <td>0.133963</td>\n",
       "    </tr>\n",
       "    <tr>\n",
       "      <th>3</th>\n",
       "      <td>0.127359</td>\n",
       "    </tr>\n",
       "    <tr>\n",
       "      <th>4</th>\n",
       "      <td>0.123504</td>\n",
       "    </tr>\n",
       "  </tbody>\n",
       "</table>\n",
       "</div>"
      ],
      "text/plain": [
       "          0\n",
       "0  0.137480\n",
       "1  0.134417\n",
       "2  0.133963\n",
       "3  0.127359\n",
       "4  0.123504"
      ]
     },
     "execution_count": 100,
     "metadata": {},
     "output_type": "execute_result"
    }
   ],
   "source": [
    "dataset = pd.DataFrame(OHLC)\n",
    "dataset.head(5)"
   ]
  },
  {
   "cell_type": "code",
   "execution_count": 101,
   "metadata": {},
   "outputs": [
    {
     "name": "stdout",
     "output_type": "stream",
     "text": [
      "(4584, 1)\n",
      "(4584, 1)\n"
     ]
    }
   ],
   "source": [
    "dataset = np.array(dataset)\n",
    "step_size = 1\n",
    "X = dataset[:-(step_size)]\n",
    "y = dataset[step_size:]\n",
    "print(X.shape)\n",
    "print(y.shape)"
   ]
  },
  {
   "cell_type": "code",
   "execution_count": 102,
   "metadata": {},
   "outputs": [
    {
     "data": {
      "text/plain": [
       "(3667, 1, 1)"
      ]
     },
     "execution_count": 102,
     "metadata": {},
     "output_type": "execute_result"
    }
   ],
   "source": [
    "train_length = int(X.shape[0] * 0.8)\n",
    "test_length = X.shape[0] - train_length\n",
    "X_train = X[:train_length].reshape(-1, 1, 1)\n",
    "X_test = X[train_length:].reshape(-1, 1, 1)\n",
    "y_train = y[:train_length]\n",
    "y_test = y[train_length:]\n",
    "X_train.shape"
   ]
  },
  {
   "cell_type": "code",
   "execution_count": 103,
   "metadata": {},
   "outputs": [
    {
     "name": "stdout",
     "output_type": "stream",
     "text": [
      "Epoch 1/100\n",
      "3667/3667 [==============================] - 3s 889us/step - loss: 0.0903\n",
      "Epoch 2/100\n",
      "3667/3667 [==============================] - 0s 130us/step - loss: 0.0318\n",
      "Epoch 3/100\n",
      "3667/3667 [==============================] - 0s 131us/step - loss: 0.0017\n",
      "Epoch 4/100\n",
      "3667/3667 [==============================] - 0s 132us/step - loss: 4.1834e-04\n",
      "Epoch 5/100\n",
      "3667/3667 [==============================] - 0s 133us/step - loss: 3.0039e-04\n",
      "Epoch 6/100\n",
      "3667/3667 [==============================] - 0s 132us/step - loss: 2.6402e-04\n",
      "Epoch 7/100\n",
      "3667/3667 [==============================] - 0s 132us/step - loss: 2.5064e-04\n",
      "Epoch 8/100\n",
      "3667/3667 [==============================] - 0s 134us/step - loss: 2.4651e-04\n",
      "Epoch 9/100\n",
      "3667/3667 [==============================] - 0s 134us/step - loss: 2.3721e-04\n",
      "Epoch 10/100\n",
      "3667/3667 [==============================] - 0s 134us/step - loss: 2.3525e-04\n",
      "Epoch 11/100\n",
      "3667/3667 [==============================] - 1s 149us/step - loss: 2.3241e-04\n",
      "Epoch 12/100\n",
      "3667/3667 [==============================] - 1s 152us/step - loss: 2.2950e-04\n",
      "Epoch 13/100\n",
      "3667/3667 [==============================] - 1s 154us/step - loss: 2.2837e-04\n",
      "Epoch 14/100\n",
      "3667/3667 [==============================] - 0s 133us/step - loss: 2.2042e-04\n",
      "Epoch 15/100\n",
      "3667/3667 [==============================] - 0s 133us/step - loss: 2.3430e-04\n",
      "Epoch 16/100\n",
      "3667/3667 [==============================] - 0s 133us/step - loss: 2.2815e-04\n",
      "Epoch 17/100\n",
      "3667/3667 [==============================] - 0s 135us/step - loss: 2.2340e-04\n",
      "Epoch 18/100\n",
      "3667/3667 [==============================] - 0s 135us/step - loss: 2.2409e-04\n",
      "Epoch 19/100\n",
      "3667/3667 [==============================] - 0s 135us/step - loss: 2.2742e-04\n",
      "Epoch 20/100\n",
      "3667/3667 [==============================] - 0s 136us/step - loss: 2.2498e-04\n",
      "Epoch 21/100\n",
      "3667/3667 [==============================] - 1s 137us/step - loss: 2.2861e-04\n",
      "Epoch 22/100\n",
      "3667/3667 [==============================] - 1s 153us/step - loss: 2.2479e-04\n",
      "Epoch 23/100\n",
      "3667/3667 [==============================] - 1s 157us/step - loss: 2.2819e-04\n",
      "Epoch 24/100\n",
      "3667/3667 [==============================] - 1s 149us/step - loss: 2.2817e-04\n",
      "Epoch 25/100\n",
      "3667/3667 [==============================] - 1s 149us/step - loss: 2.2471e-04\n",
      "Epoch 26/100\n",
      "3667/3667 [==============================] - 0s 132us/step - loss: 2.2983e-04\n",
      "Epoch 27/100\n",
      "3667/3667 [==============================] - 0s 134us/step - loss: 2.2933e-04\n",
      "Epoch 28/100\n",
      "3667/3667 [==============================] - 0s 136us/step - loss: 2.2948e-04\n",
      "Epoch 29/100\n",
      "3667/3667 [==============================] - 0s 135us/step - loss: 2.2993e-04\n",
      "Epoch 30/100\n",
      "3667/3667 [==============================] - 0s 135us/step - loss: 2.2740e-04\n",
      "Epoch 31/100\n",
      "3667/3667 [==============================] - 1s 137us/step - loss: 2.2309e-04\n",
      "Epoch 32/100\n",
      "3667/3667 [==============================] - 1s 141us/step - loss: 2.2253e-04\n",
      "Epoch 33/100\n",
      "3667/3667 [==============================] - 0s 135us/step - loss: 2.2995e-04\n",
      "Epoch 34/100\n",
      "3667/3667 [==============================] - 1s 139us/step - loss: 2.2693e-04\n",
      "Epoch 35/100\n",
      "3667/3667 [==============================] - 1s 138us/step - loss: 2.3030e-04\n",
      "Epoch 36/100\n",
      "3667/3667 [==============================] - 0s 136us/step - loss: 2.2549e-04\n",
      "Epoch 37/100\n",
      "3667/3667 [==============================] - 1s 141us/step - loss: 2.1854e-04\n",
      "Epoch 38/100\n",
      "3667/3667 [==============================] - 1s 145us/step - loss: 2.3581e-04\n",
      "Epoch 39/100\n",
      "3667/3667 [==============================] - 1s 141us/step - loss: 2.1444e-04\n",
      "Epoch 40/100\n",
      "3667/3667 [==============================] - 0s 133us/step - loss: 2.4054e-04\n",
      "Epoch 41/100\n",
      "3667/3667 [==============================] - 0s 129us/step - loss: 2.3207e-04\n",
      "Epoch 42/100\n",
      "3667/3667 [==============================] - 0s 132us/step - loss: 2.2538e-04\n",
      "Epoch 43/100\n",
      "3667/3667 [==============================] - 0s 132us/step - loss: 2.2960e-04\n",
      "Epoch 44/100\n",
      "3667/3667 [==============================] - 0s 134us/step - loss: 2.2236e-04\n",
      "Epoch 45/100\n",
      "3667/3667 [==============================] - 0s 132us/step - loss: 2.3633e-04\n",
      "Epoch 46/100\n",
      "3667/3667 [==============================] - 0s 132us/step - loss: 2.2978e-04\n",
      "Epoch 47/100\n",
      "3667/3667 [==============================] - 1s 144us/step - loss: 2.2328e-04\n",
      "Epoch 48/100\n",
      "3667/3667 [==============================] - 1s 139us/step - loss: 2.3615e-04\n",
      "Epoch 49/100\n",
      "3667/3667 [==============================] - 0s 133us/step - loss: 2.1752e-04\n",
      "Epoch 50/100\n",
      "3667/3667 [==============================] - 0s 133us/step - loss: 2.4267e-04\n",
      "Epoch 51/100\n",
      "3667/3667 [==============================] - 0s 132us/step - loss: 2.2804e-04\n",
      "Epoch 52/100\n",
      "3667/3667 [==============================] - 0s 134us/step - loss: 2.3130e-04\n",
      "Epoch 53/100\n",
      "3667/3667 [==============================] - 0s 135us/step - loss: 2.2420e-04\n",
      "Epoch 54/100\n",
      "3667/3667 [==============================] - 1s 137us/step - loss: 2.1494e-04\n",
      "Epoch 55/100\n",
      "3667/3667 [==============================] - 0s 132us/step - loss: 2.7475e-04\n",
      "Epoch 56/100\n",
      "3667/3667 [==============================] - 0s 135us/step - loss: 2.2676e-04\n",
      "Epoch 57/100\n",
      "3667/3667 [==============================] - 0s 132us/step - loss: 2.2192e-04\n",
      "Epoch 58/100\n",
      "3667/3667 [==============================] - 0s 131us/step - loss: 2.3999e-04\n",
      "Epoch 59/100\n",
      "3667/3667 [==============================] - 0s 133us/step - loss: 2.2760e-04\n",
      "Epoch 60/100\n",
      "3667/3667 [==============================] - 0s 132us/step - loss: 2.3289e-04\n",
      "Epoch 61/100\n",
      "3667/3667 [==============================] - 0s 133us/step - loss: 2.2469e-04\n",
      "Epoch 62/100\n",
      "3667/3667 [==============================] - 0s 130us/step - loss: 2.2687e-04\n",
      "Epoch 63/100\n",
      "3667/3667 [==============================] - 0s 132us/step - loss: 2.2418e-04\n",
      "Epoch 64/100\n",
      "3667/3667 [==============================] - 0s 132us/step - loss: 2.2700e-04\n",
      "Epoch 65/100\n",
      "3667/3667 [==============================] - 0s 131us/step - loss: 2.3490e-04\n",
      "Epoch 66/100\n",
      "3667/3667 [==============================] - 0s 133us/step - loss: 2.2553e-04\n",
      "Epoch 67/100\n",
      "3667/3667 [==============================] - 0s 134us/step - loss: 2.2944e-04\n",
      "Epoch 68/100\n",
      "3667/3667 [==============================] - 0s 136us/step - loss: 2.2034e-04\n",
      "Epoch 69/100\n",
      "3667/3667 [==============================] - 0s 132us/step - loss: 2.3486e-04\n",
      "Epoch 70/100\n",
      "3667/3667 [==============================] - 0s 132us/step - loss: 2.2774e-04\n",
      "Epoch 71/100\n",
      "3667/3667 [==============================] - 0s 132us/step - loss: 2.2677e-04\n",
      "Epoch 72/100\n",
      "3667/3667 [==============================] - 0s 134us/step - loss: 2.2207e-04\n",
      "Epoch 73/100\n",
      "3667/3667 [==============================] - 0s 133us/step - loss: 2.3399e-04\n",
      "Epoch 74/100\n",
      "3667/3667 [==============================] - 0s 133us/step - loss: 2.2924e-04\n",
      "Epoch 75/100\n",
      "3667/3667 [==============================] - 0s 131us/step - loss: 2.2760e-04\n",
      "Epoch 76/100\n",
      "3667/3667 [==============================] - 0s 134us/step - loss: 2.2326e-04\n",
      "Epoch 77/100\n",
      "3667/3667 [==============================] - 0s 133us/step - loss: 2.3377e-04\n",
      "Epoch 78/100\n",
      "3667/3667 [==============================] - 0s 136us/step - loss: 2.3418e-04\n",
      "Epoch 79/100\n",
      "3667/3667 [==============================] - 0s 130us/step - loss: 2.1708e-04\n",
      "Epoch 80/100\n",
      "3667/3667 [==============================] - 0s 136us/step - loss: 2.3975e-04\n",
      "Epoch 81/100\n",
      "3667/3667 [==============================] - 0s 133us/step - loss: 2.2951e-04\n",
      "Epoch 82/100\n",
      "3667/3667 [==============================] - 0s 134us/step - loss: 2.3518e-04\n",
      "Epoch 83/100\n",
      "3667/3667 [==============================] - 0s 132us/step - loss: 2.2839e-04\n",
      "Epoch 84/100\n",
      "3667/3667 [==============================] - 0s 135us/step - loss: 2.1583e-04\n",
      "Epoch 85/100\n",
      "3667/3667 [==============================] - 0s 133us/step - loss: 2.4186e-04\n",
      "Epoch 86/100\n",
      "3667/3667 [==============================] - 0s 133us/step - loss: 2.3742e-04\n",
      "Epoch 87/100\n",
      "3667/3667 [==============================] - 0s 135us/step - loss: 2.2258e-04\n",
      "Epoch 88/100\n",
      "3667/3667 [==============================] - 0s 135us/step - loss: 2.2604e-04\n",
      "Epoch 89/100\n",
      "3667/3667 [==============================] - 1s 146us/step - loss: 2.2850e-04 0s - loss: 4.\n",
      "Epoch 90/100\n",
      "3667/3667 [==============================] - 1s 141us/step - loss: 2.3402e-04\n",
      "Epoch 91/100\n"
     ]
    },
    {
     "name": "stdout",
     "output_type": "stream",
     "text": [
      "3667/3667 [==============================] - 1s 174us/step - loss: 2.2680e-04\n",
      "Epoch 92/100\n",
      "3667/3667 [==============================] - 1s 155us/step - loss: 2.1578e-04\n",
      "Epoch 93/100\n",
      "3667/3667 [==============================] - 1s 147us/step - loss: 2.6494e-04\n",
      "Epoch 94/100\n",
      "3667/3667 [==============================] - 1s 144us/step - loss: 2.3377e-04\n",
      "Epoch 95/100\n",
      "3667/3667 [==============================] - 1s 145us/step - loss: 2.2733e-04\n",
      "Epoch 96/100\n",
      "3667/3667 [==============================] - 1s 141us/step - loss: 2.1574e-04\n",
      "Epoch 97/100\n",
      "3667/3667 [==============================] - 1s 145us/step - loss: 2.3694e-04\n",
      "Epoch 98/100\n",
      "3667/3667 [==============================] - 1s 141us/step - loss: 2.2508e-04\n",
      "Epoch 99/100\n",
      "3667/3667 [==============================] - 1s 163us/step - loss: 2.3266e-04\n",
      "Epoch 100/100\n",
      "3667/3667 [==============================] - 1s 170us/step - loss: 2.2709e-04\n"
     ]
    },
    {
     "data": {
      "text/plain": [
       "<keras.callbacks.History at 0x1e6ab61ec50>"
      ]
     },
     "execution_count": 103,
     "metadata": {},
     "output_type": "execute_result"
    }
   ],
   "source": [
    "from keras.models import Sequential\n",
    "from keras.layers import Dense, Activation\n",
    "from keras.layers import LSTM\n",
    "\n",
    "regressor = Sequential()\n",
    "regressor.add(LSTM(units = 16, input_shape = (None, 1), return_sequences=True))\n",
    "regressor.add(LSTM(units = 32, activation = 'relu'))\n",
    "regressor.add(Dense(units = 1))\n",
    "regressor.compile(optimizer = 'adam', loss = 'mean_squared_error')\n",
    "regressor.fit(X_train, y_train, batch_size = 32, epochs = 100)"
   ]
  },
  {
   "cell_type": "code",
   "execution_count": 104,
   "metadata": {},
   "outputs": [
    {
     "name": "stdout",
     "output_type": "stream",
     "text": [
      "0.9953946128995962\n"
     ]
    },
    {
     "data": {
      "text/plain": [
       "array([[ 94.79720306,  95.9275    ],\n",
       "       [ 95.11245728,  95.13      ],\n",
       "       [ 94.30799866,  94.975     ],\n",
       "       ...,\n",
       "       [169.99958801, 167.0475    ],\n",
       "       [167.09744263, 170.095     ],\n",
       "       [170.06163025, 171.0225    ]])"
      ]
     },
     "execution_count": 104,
     "metadata": {},
     "output_type": "execute_result"
    }
   ],
   "source": [
    "y_predict = scalerOHLC.inverse_transform(regressor.predict(X_test))\n",
    "y_test = scalerOHLC.inverse_transform(y_test)\n",
    "from sklearn.metrics import r2_score\n",
    "print(r2_score(y_test, y_predict))\n",
    "np.c_[y_predict, y_test]"
   ]
  },
  {
   "cell_type": "code",
   "execution_count": 105,
   "metadata": {},
   "outputs": [
    {
     "data": {
      "image/png": "[encoded data removed]",
      "text/plain": [
       "<Figure size 432x288 with 1 Axes>"
      ]
     },
     "metadata": {},
     "output_type": "display_data"
    }
   ],
   "source": [
    "import matplotlib.pyplot as plt\n",
    "plt.plot(y_test, color = 'red', label = 'True Price')\n",
    "plt.plot(y_predict, color = 'green', label = 'Predicted Price')\n",
    "plt.legend()\n",
    "plt.show()"
   ]
  },
  {
   "cell_type": "code",
   "execution_count": null,
   "metadata": {},
   "outputs": [],
   "source": []
  }
 ],
 "metadata": {
  "kernelspec": {
   "display_name": "Python 3",
   "language": "python",
   "name": "python3"
  },
  "language_info": {
   "codemirror_mode": {
    "name": "ipython",
    "version": 3
   },
   "file_extension": ".py",
   "mimetype": "text/x-python",
   "name": "python",
   "nbconvert_exporter": "python",
   "pygments_lexer": "ipython3",
   "version": "3.6.5"
  }
 },
 "nbformat": 4,
 "nbformat_minor": 2
}
