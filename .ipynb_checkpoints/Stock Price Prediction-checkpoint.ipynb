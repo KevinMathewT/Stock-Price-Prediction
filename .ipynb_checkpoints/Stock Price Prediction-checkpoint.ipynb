{
 "cells": [
  {
   "cell_type": "code",
   "execution_count": 1,
   "metadata": {},
   "outputs": [],
   "source": [
    "import pandas as pd\n",
    "import numpy as np\n",
    "from sklearn.preprocessing import MinMaxScaler"
   ]
  },
  {
   "cell_type": "code",
   "execution_count": 2,
   "metadata": {},
   "outputs": [],
   "source": [
    "dataset = pd.read_csv(\"AppleData.csv\")"
   ]
  },
  {
   "cell_type": "code",
   "execution_count": 3,
   "metadata": {},
   "outputs": [
    {
     "data": {
      "text/html": [
       "<div>\n",
       "<style scoped>\n",
       "    .dataframe tbody tr th:only-of-type {\n",
       "        vertical-align: middle;\n",
       "    }\n",
       "\n",
       "    .dataframe tbody tr th {\n",
       "        vertical-align: top;\n",
       "    }\n",
       "\n",
       "    .dataframe thead th {\n",
       "        text-align: right;\n",
       "    }\n",
       "</style>\n",
       "<table border=\"1\" class=\"dataframe\">\n",
       "  <thead>\n",
       "    <tr style=\"text-align: right;\">\n",
       "      <th></th>\n",
       "      <th>Date</th>\n",
       "      <th>WIKI/AAPL - Open</th>\n",
       "      <th>WIKI/AAPL - High</th>\n",
       "      <th>WIKI/AAPL - Low</th>\n",
       "      <th>WIKI/AAPL - Close</th>\n",
       "      <th>WIKI/AAPL - Volume</th>\n",
       "      <th>WIKI/AAPL - Ex-Dividend</th>\n",
       "      <th>WIKI/AAPL - Split Ratio</th>\n",
       "      <th>WIKI/AAPL - Adj. Open</th>\n",
       "      <th>WIKI/AAPL - Adj. High</th>\n",
       "      <th>WIKI/AAPL - Adj. Low</th>\n",
       "      <th>WIKI/AAPL - Adj. Close</th>\n",
       "      <th>WIKI/AAPL - Adj. Volume</th>\n",
       "    </tr>\n",
       "  </thead>\n",
       "  <tbody>\n",
       "    <tr>\n",
       "      <th>0</th>\n",
       "      <td>2000-01-03</td>\n",
       "      <td>104.87</td>\n",
       "      <td>112.50</td>\n",
       "      <td>101.69</td>\n",
       "      <td>111.94</td>\n",
       "      <td>4783900.0</td>\n",
       "      <td>0.0</td>\n",
       "      <td>1.0</td>\n",
       "      <td>3.369314</td>\n",
       "      <td>3.614454</td>\n",
       "      <td>3.267146</td>\n",
       "      <td>3.596463</td>\n",
       "      <td>133949200.0</td>\n",
       "    </tr>\n",
       "    <tr>\n",
       "      <th>1</th>\n",
       "      <td>2000-01-04</td>\n",
       "      <td>108.25</td>\n",
       "      <td>110.62</td>\n",
       "      <td>101.19</td>\n",
       "      <td>102.50</td>\n",
       "      <td>4574800.0</td>\n",
       "      <td>0.0</td>\n",
       "      <td>1.0</td>\n",
       "      <td>3.477908</td>\n",
       "      <td>3.554053</td>\n",
       "      <td>3.251081</td>\n",
       "      <td>3.293170</td>\n",
       "      <td>128094400.0</td>\n",
       "    </tr>\n",
       "    <tr>\n",
       "      <th>2</th>\n",
       "      <td>2000-01-05</td>\n",
       "      <td>103.75</td>\n",
       "      <td>110.56</td>\n",
       "      <td>103.00</td>\n",
       "      <td>104.00</td>\n",
       "      <td>6949300.0</td>\n",
       "      <td>0.0</td>\n",
       "      <td>1.0</td>\n",
       "      <td>3.333330</td>\n",
       "      <td>3.552125</td>\n",
       "      <td>3.309234</td>\n",
       "      <td>3.341362</td>\n",
       "      <td>194580400.0</td>\n",
       "    </tr>\n",
       "    <tr>\n",
       "      <th>3</th>\n",
       "      <td>2000-01-06</td>\n",
       "      <td>106.12</td>\n",
       "      <td>107.00</td>\n",
       "      <td>95.00</td>\n",
       "      <td>95.00</td>\n",
       "      <td>6856900.0</td>\n",
       "      <td>0.0</td>\n",
       "      <td>1.0</td>\n",
       "      <td>3.409475</td>\n",
       "      <td>3.437748</td>\n",
       "      <td>3.052206</td>\n",
       "      <td>3.052206</td>\n",
       "      <td>191993200.0</td>\n",
       "    </tr>\n",
       "    <tr>\n",
       "      <th>4</th>\n",
       "      <td>2000-01-07</td>\n",
       "      <td>96.50</td>\n",
       "      <td>101.00</td>\n",
       "      <td>95.50</td>\n",
       "      <td>99.50</td>\n",
       "      <td>4113700.0</td>\n",
       "      <td>0.0</td>\n",
       "      <td>1.0</td>\n",
       "      <td>3.100399</td>\n",
       "      <td>3.244977</td>\n",
       "      <td>3.068270</td>\n",
       "      <td>3.196784</td>\n",
       "      <td>115183600.0</td>\n",
       "    </tr>\n",
       "  </tbody>\n",
       "</table>\n",
       "</div>"
      ],
      "text/plain": [
       "         Date  WIKI/AAPL - Open  WIKI/AAPL - High  WIKI/AAPL - Low  \\\n",
       "0  2000-01-03            104.87            112.50           101.69   \n",
       "1  2000-01-04            108.25            110.62           101.19   \n",
       "2  2000-01-05            103.75            110.56           103.00   \n",
       "3  2000-01-06            106.12            107.00            95.00   \n",
       "4  2000-01-07             96.50            101.00            95.50   \n",
       "\n",
       "   WIKI/AAPL - Close  WIKI/AAPL - Volume  WIKI/AAPL - Ex-Dividend  \\\n",
       "0             111.94           4783900.0                      0.0   \n",
       "1             102.50           4574800.0                      0.0   \n",
       "2             104.00           6949300.0                      0.0   \n",
       "3              95.00           6856900.0                      0.0   \n",
       "4              99.50           4113700.0                      0.0   \n",
       "\n",
       "   WIKI/AAPL - Split Ratio  WIKI/AAPL - Adj. Open  WIKI/AAPL - Adj. High  \\\n",
       "0                      1.0               3.369314               3.614454   \n",
       "1                      1.0               3.477908               3.554053   \n",
       "2                      1.0               3.333330               3.552125   \n",
       "3                      1.0               3.409475               3.437748   \n",
       "4                      1.0               3.100399               3.244977   \n",
       "\n",
       "   WIKI/AAPL - Adj. Low  WIKI/AAPL - Adj. Close  WIKI/AAPL - Adj. Volume  \n",
       "0              3.267146                3.596463              133949200.0  \n",
       "1              3.251081                3.293170              128094400.0  \n",
       "2              3.309234                3.341362              194580400.0  \n",
       "3              3.052206                3.052206              191993200.0  \n",
       "4              3.068270                3.196784              115183600.0  "
      ]
     },
     "execution_count": 3,
     "metadata": {},
     "output_type": "execute_result"
    }
   ],
   "source": [
    "dataset.head(5)"
   ]
  },
  {
   "cell_type": "code",
   "execution_count": 4,
   "metadata": {},
   "outputs": [],
   "source": [
    "dataset = np.array(dataset)"
   ]
  },
  {
   "cell_type": "code",
   "execution_count": 5,
   "metadata": {},
   "outputs": [
    {
     "data": {
      "text/plain": [
       "array([[0.13748043],\n",
       "       [0.13441651],\n",
       "       [0.13396273],\n",
       "       ...,\n",
       "       [0.22358584],\n",
       "       [0.22801109],\n",
       "       [0.22935791]])"
      ]
     },
     "execution_count": 5,
     "metadata": {},
     "output_type": "execute_result"
    }
   ],
   "source": [
    "#OHLC\n",
    "OHLC = dataset[:, 1:5].astype(float)\n",
    "OHLC = OHLC.mean(axis=1)\n",
    "OHLC = OHLC.reshape(-1, 1)\n",
    "scalerOHLC = MinMaxScaler()\n",
    "OHLC = scalerOHLC.fit_transform(OHLC)\n",
    "OHLC\n"
   ]
  },
  {
   "cell_type": "code",
   "execution_count": 6,
   "metadata": {},
   "outputs": [
    {
     "data": {
      "text/plain": [
       "array([[0.01452666],\n",
       "       [0.01415106],\n",
       "       [0.01409543],\n",
       "       ...,\n",
       "       [0.9208937 ],\n",
       "       [0.93777876],\n",
       "       [0.94291769]])"
      ]
     },
     "execution_count": 6,
     "metadata": {},
     "output_type": "execute_result"
    }
   ],
   "source": [
    "#AdjustedOHLC\n",
    "AdjustedOHLC = dataset[:, 8:12].astype(float)\n",
    "AdjustedOHLC = AdjustedOHLC.mean(axis=1)\n",
    "AdjustedOHLC = AdjustedOHLC.reshape(-1, 1)\n",
    "scalerAdjustedOHLC = MinMaxScaler()\n",
    "AdjustedOHLC = scalerAdjustedOHLC.fit_transform(AdjustedOHLC)\n",
    "AdjustedOHLC\n"
   ]
  },
  {
   "cell_type": "code",
   "execution_count": 7,
   "metadata": {},
   "outputs": [
    {
     "data": {
      "text/plain": [
       "array([[0.13889682],\n",
       "       [0.1331772 ],\n",
       "       [0.13474985],\n",
       "       ...,\n",
       "       [0.22293462],\n",
       "       [0.22898813],\n",
       "       [0.22806873]])"
      ]
     },
     "execution_count": 7,
     "metadata": {},
     "output_type": "execute_result"
    }
   ],
   "source": [
    "#HLC\n",
    "HLC = dataset[:, 2:5].astype(float)\n",
    "HLC = HLC.mean(axis=1)\n",
    "HLC = HLC.reshape(-1, 1)\n",
    "scalerHLC = MinMaxScaler()\n",
    "HLC = scalerHLC.fit_transform(HLC)\n",
    "HLC\n"
   ]
  },
  {
   "cell_type": "code",
   "execution_count": 8,
   "metadata": {},
   "outputs": [
    {
     "data": {
      "text/plain": [
       "array([[0.0147031 ],\n",
       "       [0.01400219],\n",
       "       [0.01419491],\n",
       "       ...,\n",
       "       [0.9178307 ],\n",
       "       [0.94092005],\n",
       "       [0.93741328]])"
      ]
     },
     "execution_count": 8,
     "metadata": {},
     "output_type": "execute_result"
    }
   ],
   "source": [
    "#AdjustedHLC\n",
    "AdjustedHLC = dataset[:, 9:12].astype(float)\n",
    "AdjustedHLC = AdjustedHLC.mean(axis=1)\n",
    "AdjustedHLC = AdjustedHLC.reshape(-1, 1)\n",
    "scalerAdjustedHLC = MinMaxScaler()\n",
    "AdjustedHLC = scalerAdjustedHLC.fit_transform(AdjustedHLC)\n",
    "AdjustedHLC\n"
   ]
  },
  {
   "cell_type": "code",
   "execution_count": 9,
   "metadata": {},
   "outputs": [
    {
     "data": {
      "text/html": [
       "<div>\n",
       "<style scoped>\n",
       "    .dataframe tbody tr th:only-of-type {\n",
       "        vertical-align: middle;\n",
       "    }\n",
       "\n",
       "    .dataframe tbody tr th {\n",
       "        vertical-align: top;\n",
       "    }\n",
       "\n",
       "    .dataframe thead th {\n",
       "        text-align: right;\n",
       "    }\n",
       "</style>\n",
       "<table border=\"1\" class=\"dataframe\">\n",
       "  <thead>\n",
       "    <tr style=\"text-align: right;\">\n",
       "      <th></th>\n",
       "      <th>0</th>\n",
       "    </tr>\n",
       "  </thead>\n",
       "  <tbody>\n",
       "    <tr>\n",
       "      <th>0</th>\n",
       "      <td>0.137480</td>\n",
       "    </tr>\n",
       "    <tr>\n",
       "      <th>1</th>\n",
       "      <td>0.134417</td>\n",
       "    </tr>\n",
       "    <tr>\n",
       "      <th>2</th>\n",
       "      <td>0.133963</td>\n",
       "    </tr>\n",
       "    <tr>\n",
       "      <th>3</th>\n",
       "      <td>0.127359</td>\n",
       "    </tr>\n",
       "    <tr>\n",
       "      <th>4</th>\n",
       "      <td>0.123504</td>\n",
       "    </tr>\n",
       "  </tbody>\n",
       "</table>\n",
       "</div>"
      ],
      "text/plain": [
       "          0\n",
       "0  0.137480\n",
       "1  0.134417\n",
       "2  0.133963\n",
       "3  0.127359\n",
       "4  0.123504"
      ]
     },
     "execution_count": 9,
     "metadata": {},
     "output_type": "execute_result"
    }
   ],
   "source": [
    "dataset = pd.DataFrame(OHLC)\n",
    "dataset.head(5)"
   ]
  },
  {
   "cell_type": "code",
   "execution_count": 10,
   "metadata": {},
   "outputs": [
    {
     "name": "stdout",
     "output_type": "stream",
     "text": [
      "(4584, 1)\n",
      "(4584, 1)\n"
     ]
    },
    {
     "data": {
      "text/plain": [
       "(3667, 1, 1)"
      ]
     },
     "execution_count": 10,
     "metadata": {},
     "output_type": "execute_result"
    }
   ],
   "source": [
    "dataset = np.array(dataset)\n",
    "step_size = 1\n",
    "X = dataset[:-step_size]\n",
    "y = dataset[step_size:]\n",
    "print(X.shape)\n",
    "print(y.shape)\n",
    "train_length = int(X.shape[0] * 0.8)\n",
    "test_length = X.shape[0] - train_length\n",
    "X_train = X[:train_length].reshape(-1, 1, 1)\n",
    "X_test = X[train_length:].reshape(-1, 1, 1)\n",
    "y_train = y[:train_length]\n",
    "y_test = y[train_length:]\n",
    "X_train.shape"
   ]
  },
  {
   "cell_type": "code",
   "execution_count": 11,
   "metadata": {},
   "outputs": [
    {
     "name": "stderr",
     "output_type": "stream",
     "text": [
      "C:\\Users\\win10\\AppData\\Local\\Continuum\\anaconda3\\lib\\site-packages\\h5py\\__init__.py:36: FutureWarning: Conversion of the second argument of issubdtype from `float` to `np.floating` is deprecated. In future, it will be treated as `np.float64 == np.dtype(float).type`.\n",
      "  from ._conv import register_converters as _register_converters\n",
      "Using TensorFlow backend.\n"
     ]
    },
    {
     "name": "stdout",
     "output_type": "stream",
     "text": [
      "Epoch 1/100\n",
      "3667/3667 [==============================] - 5s 1ms/step - loss: 0.0903\n",
      "Epoch 2/100\n",
      "3667/3667 [==============================] - 1s 233us/step - loss: 0.0280 0s - \n",
      "Epoch 3/100\n",
      "3667/3667 [==============================] - 1s 234us/step - loss: 0.0014\n",
      "Epoch 4/100\n",
      "3667/3667 [==============================] - 1s 236us/step - loss: 3.9861e-04\n",
      "Epoch 5/100\n",
      "3667/3667 [==============================] - 1s 239us/step - loss: 2.9385e-04\n",
      "Epoch 6/100\n",
      "3667/3667 [==============================] - 1s 233us/step - loss: 2.6499e-04\n",
      "Epoch 7/100\n",
      "3667/3667 [==============================] - 1s 235us/step - loss: 2.6091e-04\n",
      "Epoch 8/100\n",
      "3667/3667 [==============================] - 1s 231us/step - loss: 2.4735e-04\n",
      "Epoch 9/100\n",
      "3667/3667 [==============================] - 1s 242us/step - loss: 2.4079e-04\n",
      "Epoch 10/100\n",
      "3667/3667 [==============================] - 1s 236us/step - loss: 2.3888e-04\n",
      "Epoch 11/100\n",
      "3667/3667 [==============================] - 1s 242us/step - loss: 2.3266e-04\n",
      "Epoch 12/100\n",
      "3667/3667 [==============================] - 1s 226us/step - loss: 2.3240e-04\n",
      "Epoch 13/100\n",
      "3667/3667 [==============================] - 1s 245us/step - loss: 2.3585e-04\n",
      "Epoch 14/100\n",
      "3667/3667 [==============================] - 1s 240us/step - loss: 2.3374e-04 0s - loss: 3.5\n",
      "Epoch 15/100\n",
      "3667/3667 [==============================] - 1s 237us/step - loss: 2.2996e-04\n",
      "Epoch 16/100\n",
      "3667/3667 [==============================] - 1s 240us/step - loss: 2.3006e-04\n",
      "Epoch 17/100\n",
      "3667/3667 [==============================] - 1s 237us/step - loss: 2.2918e-04\n",
      "Epoch 18/100\n",
      "3667/3667 [==============================] - 1s 241us/step - loss: 2.2876e-04\n",
      "Epoch 19/100\n",
      "3667/3667 [==============================] - 1s 240us/step - loss: 2.2807e-04\n",
      "Epoch 20/100\n",
      "3667/3667 [==============================] - 1s 242us/step - loss: 2.2950e-04 0s - \n",
      "Epoch 21/100\n",
      "3667/3667 [==============================] - 1s 241us/step - loss: 2.2804e-04\n",
      "Epoch 22/100\n",
      "3667/3667 [==============================] - 1s 241us/step - loss: 2.2762e-04\n",
      "Epoch 23/100\n",
      "3667/3667 [==============================] - 1s 245us/step - loss: 2.2703e-04\n",
      "Epoch 24/100\n",
      "3667/3667 [==============================] - 1s 235us/step - loss: 2.3079e-04 0s - l\n",
      "Epoch 25/100\n",
      "3667/3667 [==============================] - 1s 244us/step - loss: 2.3117e-04\n",
      "Epoch 26/100\n",
      "3667/3667 [==============================] - 1s 248us/step - loss: 2.2940e-04\n",
      "Epoch 27/100\n",
      "3667/3667 [==============================] - 1s 240us/step - loss: 2.3186e-04\n",
      "Epoch 28/100\n",
      "3667/3667 [==============================] - 1s 262us/step - loss: 2.2937e-04\n",
      "Epoch 29/100\n",
      "3667/3667 [==============================] - 1s 242us/step - loss: 2.2938e-04\n",
      "Epoch 30/100\n",
      "3667/3667 [==============================] - 1s 259us/step - loss: 2.3133e-04\n",
      "Epoch 31/100\n",
      "3667/3667 [==============================] - 1s 242us/step - loss: 2.3066e-04\n",
      "Epoch 32/100\n",
      "3667/3667 [==============================] - 1s 245us/step - loss: 2.1772e-04\n",
      "Epoch 33/100\n",
      "3667/3667 [==============================] - 1s 236us/step - loss: 2.3216e-04\n",
      "Epoch 34/100\n",
      "3667/3667 [==============================] - 1s 233us/step - loss: 2.3148e-04\n",
      "Epoch 35/100\n",
      "3667/3667 [==============================] - 1s 233us/step - loss: 2.2355e-04\n",
      "Epoch 36/100\n",
      "3667/3667 [==============================] - 1s 295us/step - loss: 2.3630e-04\n",
      "Epoch 37/100\n",
      "3667/3667 [==============================] - 1s 312us/step - loss: 2.2931e-04\n",
      "Epoch 38/100\n",
      "3667/3667 [==============================] - 1s 278us/step - loss: 2.3212e-04\n",
      "Epoch 39/100\n",
      "3667/3667 [==============================] - 1s 270us/step - loss: 2.3395e-04\n",
      "Epoch 40/100\n",
      "3667/3667 [==============================] - 1s 284us/step - loss: 2.3272e-04\n",
      "Epoch 41/100\n",
      "3667/3667 [==============================] - 1s 282us/step - loss: 2.2699e-04\n",
      "Epoch 42/100\n",
      "3667/3667 [==============================] - 1s 250us/step - loss: 2.3022e-04\n",
      "Epoch 43/100\n",
      "3667/3667 [==============================] - 1s 255us/step - loss: 2.2793e-04 0s - \n",
      "Epoch 44/100\n",
      "3667/3667 [==============================] - 1s 281us/step - loss: 2.2832e-04 0s - \n",
      "Epoch 45/100\n",
      "3667/3667 [==============================] - 1s 308us/step - loss: 2.2052e-04\n",
      "Epoch 46/100\n",
      "3667/3667 [==============================] - 1s 277us/step - loss: 2.3874e-04\n",
      "Epoch 47/100\n",
      "3667/3667 [==============================] - 1s 255us/step - loss: 2.2900e-04\n",
      "Epoch 48/100\n",
      "3667/3667 [==============================] - 1s 260us/step - loss: 2.2641e-04\n",
      "Epoch 49/100\n",
      "3667/3667 [==============================] - 1s 255us/step - loss: 2.2857e-04\n",
      "Epoch 50/100\n",
      "3667/3667 [==============================] - 1s 255us/step - loss: 2.3585e-04\n",
      "Epoch 51/100\n",
      "3667/3667 [==============================] - 1s 260us/step - loss: 2.1979e-04\n",
      "Epoch 52/100\n",
      "3667/3667 [==============================] - 1s 280us/step - loss: 2.3098e-04\n",
      "Epoch 53/100\n",
      "3667/3667 [==============================] - 1s 262us/step - loss: 2.3503e-04\n",
      "Epoch 54/100\n",
      "3667/3667 [==============================] - 1s 269us/step - loss: 2.2944e-04\n",
      "Epoch 55/100\n",
      "3667/3667 [==============================] - 1s 272us/step - loss: 2.2907e-04\n",
      "Epoch 56/100\n",
      "3667/3667 [==============================] - 1s 241us/step - loss: 2.2786e-04\n",
      "Epoch 57/100\n",
      "3667/3667 [==============================] - 1s 263us/step - loss: 2.3231e-04\n",
      "Epoch 58/100\n",
      "3667/3667 [==============================] - 1s 250us/step - loss: 2.2836e-04\n",
      "Epoch 59/100\n",
      "3667/3667 [==============================] - 1s 250us/step - loss: 2.2963e-04\n",
      "Epoch 60/100\n",
      "3667/3667 [==============================] - 1s 252us/step - loss: 2.2748e-04\n",
      "Epoch 61/100\n",
      "3667/3667 [==============================] - 1s 250us/step - loss: 2.3114e-04\n",
      "Epoch 62/100\n",
      "3667/3667 [==============================] - 1s 247us/step - loss: 2.3037e-04\n",
      "Epoch 63/100\n",
      "3667/3667 [==============================] - 1s 246us/step - loss: 2.3539e-04\n",
      "Epoch 64/100\n",
      "3667/3667 [==============================] - 1s 249us/step - loss: 2.3066e-04\n",
      "Epoch 65/100\n",
      "3667/3667 [==============================] - 1s 264us/step - loss: 2.2931e-04\n",
      "Epoch 66/100\n",
      "3667/3667 [==============================] - 1s 276us/step - loss: 2.2474e-04\n",
      "Epoch 67/100\n",
      "3667/3667 [==============================] - 1s 271us/step - loss: 2.3372e-04\n",
      "Epoch 68/100\n",
      "3667/3667 [==============================] - 1s 280us/step - loss: 2.2942e-04\n",
      "Epoch 69/100\n",
      "3667/3667 [==============================] - 1s 292us/step - loss: 2.2855e-04\n",
      "Epoch 70/100\n",
      "3667/3667 [==============================] - 1s 249us/step - loss: 2.1822e-04\n",
      "Epoch 71/100\n",
      "3667/3667 [==============================] - 1s 238us/step - loss: 2.3586e-04\n",
      "Epoch 72/100\n",
      "3667/3667 [==============================] - 1s 242us/step - loss: 2.3283e-04\n",
      "Epoch 73/100\n",
      "3667/3667 [==============================] - 1s 251us/step - loss: 2.2950e-04 0s - lo\n",
      "Epoch 74/100\n",
      "3667/3667 [==============================] - 1s 256us/step - loss: 2.2722e-04\n",
      "Epoch 75/100\n",
      "3667/3667 [==============================] - 1s 240us/step - loss: 2.3228e-04\n",
      "Epoch 76/100\n",
      "3667/3667 [==============================] - 1s 251us/step - loss: 2.2174e-04 0s - l\n",
      "Epoch 77/100\n",
      "3667/3667 [==============================] - 1s 255us/step - loss: 2.3558e-04\n",
      "Epoch 78/100\n",
      "3667/3667 [==============================] - 1s 267us/step - loss: 2.3454e-04\n",
      "Epoch 79/100\n",
      "3667/3667 [==============================] - 1s 257us/step - loss: 2.2717e-04\n",
      "Epoch 80/100\n",
      "3667/3667 [==============================] - 1s 254us/step - loss: 2.3537e-04\n",
      "Epoch 81/100\n",
      "3667/3667 [==============================] - 1s 255us/step - loss: 2.2599e-04 0s - loss: 5.1862e-0 - ETA: 0s - lo\n",
      "Epoch 82/100\n",
      "3667/3667 [==============================] - 1s 251us/step - loss: 2.2648e-04\n",
      "Epoch 83/100\n",
      "3667/3667 [==============================] - 1s 246us/step - loss: 2.2036e-04\n",
      "Epoch 84/100\n",
      "3667/3667 [==============================] - 1s 248us/step - loss: 2.2580e-04\n",
      "Epoch 85/100\n",
      "3667/3667 [==============================] - 1s 254us/step - loss: 2.2988e-04\n",
      "Epoch 86/100\n",
      "3667/3667 [==============================] - 1s 252us/step - loss: 2.2636e-04\n",
      "Epoch 87/100\n",
      "3667/3667 [==============================] - 1s 261us/step - loss: 2.2562e-04\n",
      "Epoch 88/100\n",
      "3667/3667 [==============================] - 1s 257us/step - loss: 2.2279e-04\n",
      "Epoch 89/100\n",
      "3667/3667 [==============================] - 1s 258us/step - loss: 2.3421e-04\n",
      "Epoch 90/100\n"
     ]
    },
    {
     "name": "stdout",
     "output_type": "stream",
     "text": [
      "3667/3667 [==============================] - 1s 241us/step - loss: 2.2902e-04\n",
      "Epoch 91/100\n",
      "3667/3667 [==============================] - 1s 250us/step - loss: 2.2895e-04 0s\n",
      "Epoch 92/100\n",
      "3667/3667 [==============================] - 1s 246us/step - loss: 2.2216e-04\n",
      "Epoch 93/100\n",
      "3667/3667 [==============================] - 1s 244us/step - loss: 2.3372e-04\n",
      "Epoch 94/100\n",
      "3667/3667 [==============================] - 1s 242us/step - loss: 2.3059e-04 0s - loss: 2.3541e-0\n",
      "Epoch 95/100\n",
      "3667/3667 [==============================] - 1s 241us/step - loss: 2.2518e-04 0s - loss: 2.5478e\n",
      "Epoch 96/100\n",
      "3667/3667 [==============================] - 1s 249us/step - loss: 2.2722e-04\n",
      "Epoch 97/100\n",
      "3667/3667 [==============================] - 1s 247us/step - loss: 2.2811e-04\n",
      "Epoch 98/100\n",
      "3667/3667 [==============================] - 1s 240us/step - loss: 2.3026e-04\n",
      "Epoch 99/100\n",
      "3667/3667 [==============================] - 1s 248us/step - loss: 2.2961e-04\n",
      "Epoch 100/100\n",
      "3667/3667 [==============================] - 1s 242us/step - loss: 2.3075e-04 0s - loss:\n"
     ]
    },
    {
     "data": {
      "text/plain": [
       "<keras.callbacks.History at 0x151fd48b6a0>"
      ]
     },
     "execution_count": 11,
     "metadata": {},
     "output_type": "execute_result"
    }
   ],
   "source": [
    "from keras.layers import Dense\n",
    "from keras.layers import LSTM\n",
    "from keras.models import Sequential\n",
    "\n",
    "regressor = Sequential()\n",
    "regressor.add(LSTM(units=16, input_shape=(None, 1), return_sequences=True))\n",
    "regressor.add(LSTM(units=32, activation='relu'))\n",
    "regressor.add(Dense(units=1))\n",
    "regressor.compile(optimizer='adam', loss='mean_squared_error')\n",
    "regressor.fit(X_train, y_train, batch_size=32, epochs=100)\n"
   ]
  },
  {
   "cell_type": "code",
   "execution_count": 12,
   "metadata": {},
   "outputs": [
    {
     "name": "stdout",
     "output_type": "stream",
     "text": [
      "0.9954902171468866\n"
     ]
    },
    {
     "data": {
      "text/plain": [
       "array([[ 95.37575531,  95.9275    ],\n",
       "       [ 95.69168091,  95.13      ],\n",
       "       [ 94.88556671,  94.975     ],\n",
       "       ...,\n",
       "       [171.02653503, 167.0475    ],\n",
       "       [168.15261841, 170.095     ],\n",
       "       [171.0880127 , 171.0225    ]])"
      ]
     },
     "execution_count": 12,
     "metadata": {},
     "output_type": "execute_result"
    }
   ],
   "source": [
    "y_predict = scalerOHLC.inverse_transform(regressor.predict(X_test))\n",
    "y_test = scalerOHLC.inverse_transform(y_test)\n",
    "from sklearn.metrics import r2_score\n",
    "print(r2_score(y_test, y_predict))\n",
    "np.c_[y_predict, y_test]"
   ]
  },
  {
   "cell_type": "code",
   "execution_count": 14,
   "metadata": {},
   "outputs": [
    {
     "data": {
      "image/png": "[encoded data removed]",
      "text/plain": [
       "<Figure size 432x288 with 1 Axes>"
      ]
     },
     "metadata": {},
     "output_type": "display_data"
    }
   ],
   "source": [
    "import matplotlib.pyplot as plt\n",
    "plt.plot(y_test, color = 'red', label = 'True Price')\n",
    "plt.plot(y_predict, color = 'green', label = 'Predicted Price')\n",
    "plt.legend()\n",
    "plt.show()"
   ]
  },
  {
   "cell_type": "code",
   "execution_count": null,
   "metadata": {},
   "outputs": [],
   "source": []
  }
 ],
 "metadata": {
  "kernelspec": {
   "display_name": "Python 3",
   "language": "python",
   "name": "python3"
  },
  "language_info": {
   "codemirror_mode": {
    "name": "ipython",
    "version": 3
   },
   "file_extension": ".py",
   "mimetype": "text/x-python",
   "name": "python",
   "nbconvert_exporter": "python",
   "pygments_lexer": "ipython3",
   "version": "3.6.5"
  }
 },
 "nbformat": 4,
 "nbformat_minor": 2
}
